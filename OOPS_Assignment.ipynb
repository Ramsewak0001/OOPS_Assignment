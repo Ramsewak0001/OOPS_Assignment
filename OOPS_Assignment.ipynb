{
 "cells": [
  {
   "cell_type": "code",
   "execution_count": null,
   "id": "7311b108-0b6f-4f6b-aad9-66b58f5c1847",
   "metadata": {},
   "outputs": [],
   "source": [
    "Q1. Explain Class and Object with respect to Object-Oriented Programming. Give a suitable example."
   ]
  },
  {
   "cell_type": "code",
   "execution_count": null,
   "id": "c0a73de2-4aae-47f9-bdcf-f941dfc15d3b",
   "metadata": {},
   "outputs": [],
   "source": [
    "class : \n",
    "       In Object-Oriented Programming (OOP), a class is a blueprint for a particular data structure,\n",
    "        providing initial values for state (member variables or attributes), and implementations member functions or methods.\n",
    "Object :\n",
    "       In Object-Oriented Programming (OOP), An object is an instance of a class. When an object is created, memory is allocated.\n",
    "       An object has an identity, state, and behavior \n",
    "for example :"
   ]
  },
  {
   "cell_type": "code",
   "execution_count": 6,
   "id": "4e22315c-6eb3-4c89-a4a7-2827621b5d75",
   "metadata": {},
   "outputs": [],
   "source": [
    "## defineing a class\n",
    "class Data_Science :    \n",
    "    def python(self):\n",
    "        print(\"I am studing python language\")"
   ]
  },
  {
   "cell_type": "code",
   "execution_count": 7,
   "id": "2d246ae7-1569-4c37-8987-b41fc65da0e4",
   "metadata": {},
   "outputs": [],
   "source": [
    "## Creating a object for the class \n",
    "Ram = Data_Science()"
   ]
  },
  {
   "cell_type": "code",
   "execution_count": 8,
   "id": "84e528b0-6f09-4547-b335-723381c330a4",
   "metadata": {},
   "outputs": [
    {
     "name": "stdout",
     "output_type": "stream",
     "text": [
      "I am studing python language\n"
     ]
    }
   ],
   "source": [
    "## Assessing the function of the classs using the object\n",
    "Ram.python()"
   ]
  },
  {
   "cell_type": "code",
   "execution_count": null,
   "id": "2dea1b10-6a82-42dc-a5e1-c35073f9825a",
   "metadata": {},
   "outputs": [],
   "source": [
    "Q2. Name the four pillars of OOPs."
   ]
  },
  {
   "cell_type": "code",
   "execution_count": null,
   "id": "b9c252d3-5caa-4194-a73d-29e691765aae",
   "metadata": {},
   "outputs": [],
   "source": [
    "The four pillars in opps are :\n",
    "    1. Polymorphism : \n",
    "                     The ability of a function to perform different operation with respect to the input argument.\n",
    "    2.Encapsulation :\n",
    "                     To create a prvate variable using double underscore(__) in a class.\n",
    "    3.Inheritance   :\n",
    "                     To assess the one or many class using another class.\n",
    "    4.Abstraction   :\n",
    "                      The use of abstract classes and interfaces. By decorate using @abc.abstractmethod"
   ]
  },
  {
   "cell_type": "code",
   "execution_count": null,
   "id": "4da5b212-b6a1-446d-802c-f3911a04a559",
   "metadata": {},
   "outputs": [],
   "source": [
    "Q3. Explain why the __init__() function is used. Give a suitable example."
   ]
  },
  {
   "cell_type": "code",
   "execution_count": null,
   "id": "9d7d8c31-f6c9-436d-b6aa-13061b8faa8c",
   "metadata": {},
   "outputs": [],
   "source": [
    "__init__() function :\n",
    "                     It is used in a class to take input from the user\n",
    "                     i.e.  The task of constructors or __init__ is to initialize (assign values) to the data members of\n",
    "                     the class when an object of the class is created."
   ]
  },
  {
   "cell_type": "code",
   "execution_count": 12,
   "id": "5e39163a-81cb-4935-85f8-44aa0d090ce6",
   "metadata": {},
   "outputs": [],
   "source": [
    "class Data_Science :\n",
    "    def __init__(self, name ):\n",
    "        self.name=name\n",
    "    def message(self):\n",
    "        return (\"Welcome to python class \" + self.name)"
   ]
  },
  {
   "cell_type": "code",
   "execution_count": 13,
   "id": "92da21df-57a3-41fe-960f-b3ce0b33ba67",
   "metadata": {},
   "outputs": [],
   "source": [
    "Ram=Data_Science(\"Ram\")"
   ]
  },
  {
   "cell_type": "code",
   "execution_count": 15,
   "id": "249101b3-eaa8-4a5f-8b50-4ffda7c2badc",
   "metadata": {},
   "outputs": [
    {
     "data": {
      "text/plain": [
       "'Welcome to python class Ram'"
      ]
     },
     "execution_count": 15,
     "metadata": {},
     "output_type": "execute_result"
    }
   ],
   "source": [
    "Ram.message()"
   ]
  },
  {
   "cell_type": "code",
   "execution_count": null,
   "id": "9b5df684-94fd-48dd-8e60-78ad81aa9e01",
   "metadata": {},
   "outputs": [],
   "source": [
    "Q4. Why self is used in OOPs?"
   ]
  },
  {
   "cell_type": "code",
   "execution_count": null,
   "id": "e6f0470d-340b-4fac-aa9b-4423258be115",
   "metadata": {},
   "outputs": [],
   "source": [
    "In object-oriented programming (OOP), self is a keyword used to refer to an instance of a class.\n",
    "It is used to access the attributes and methods of the class in Python.\n",
    "Self is not a reserved keyword we can use any variable example our name also on the place of self."
   ]
  },
  {
   "cell_type": "code",
   "execution_count": null,
   "id": "d9a9e154-44fc-48aa-9823-959c1a52bd79",
   "metadata": {},
   "outputs": [],
   "source": [
    "Q5. What is inheritance? Give an example for each type of inheritance."
   ]
  },
  {
   "cell_type": "code",
   "execution_count": null,
   "id": "29564688-073d-4727-8463-5363183a7a19",
   "metadata": {},
   "outputs": [],
   "source": [
    "Inheritance :\n",
    "             To assess the one or many class using another class. \n",
    "             there are four types of inheritance:\n",
    "             1. Single inheritance \n",
    "             2. Multiple inheritance\n",
    "             3. Multi-level inheritance\n",
    "             4. Hierarchical Inheritance   \n",
    "            "
   ]
  },
  {
   "cell_type": "code",
   "execution_count": 23,
   "id": "850bd1ff-a7a6-4b5c-a1eb-0ae4b7539ad0",
   "metadata": {},
   "outputs": [],
   "source": [
    "## 1. Single Inheritance \n",
    "class class1 :\n",
    "    def name1(sel):\n",
    "        print(\"This is class1\")\n",
    "        \n",
    "class class2(class1):\n",
    "    def name2(self):\n",
    "        pass"
   ]
  },
  {
   "cell_type": "code",
   "execution_count": 24,
   "id": "ff0b5fef-5a6e-4c60-bbdd-51961bd61cb7",
   "metadata": {},
   "outputs": [],
   "source": [
    "obj_class2 = class2()"
   ]
  },
  {
   "cell_type": "code",
   "execution_count": 26,
   "id": "75e7183a-d18c-4937-bdb8-64b4530765c0",
   "metadata": {},
   "outputs": [
    {
     "name": "stdout",
     "output_type": "stream",
     "text": [
      "This is class1\n"
     ]
    }
   ],
   "source": [
    "obj_class2.name1()"
   ]
  },
  {
   "cell_type": "code",
   "execution_count": 27,
   "id": "d720926d-0d10-436a-8014-70528564d79e",
   "metadata": {},
   "outputs": [],
   "source": [
    "obj_class2.name2()"
   ]
  },
  {
   "cell_type": "code",
   "execution_count": 29,
   "id": "60e3095d-fbf9-4217-bee9-f9b81bd51aaf",
   "metadata": {},
   "outputs": [],
   "source": [
    "## 2. Multiple inheritance\n",
    "class class1 :\n",
    "    def name1(sel):\n",
    "        print(\"This is class1\")\n",
    "        \n",
    "class class2 :\n",
    "    def name2(self):\n",
    "        print(\"This is class2\")\n",
    "        \n",
    "class class3(class1,class2) :\n",
    "    def name(self):\n",
    "        pass\n"
   ]
  },
  {
   "cell_type": "code",
   "execution_count": 30,
   "id": "86fdf287-be17-499f-be34-aa7ecf9ccc4b",
   "metadata": {},
   "outputs": [],
   "source": [
    "obj_class3=class3()"
   ]
  },
  {
   "cell_type": "code",
   "execution_count": 31,
   "id": "9a6711df-768b-4a02-bf3d-d517e58ec74f",
   "metadata": {},
   "outputs": [
    {
     "name": "stdout",
     "output_type": "stream",
     "text": [
      "This is class1\n"
     ]
    }
   ],
   "source": [
    "obj_class3.name1()"
   ]
  },
  {
   "cell_type": "code",
   "execution_count": 32,
   "id": "d314f71d-4eef-4693-a578-f38693aae2c1",
   "metadata": {},
   "outputs": [
    {
     "name": "stdout",
     "output_type": "stream",
     "text": [
      "This is class2\n"
     ]
    }
   ],
   "source": [
    "obj_class3.name2()"
   ]
  },
  {
   "cell_type": "code",
   "execution_count": 33,
   "id": "f94d83ed-e2a6-4489-9f01-5902beea5f17",
   "metadata": {},
   "outputs": [],
   "source": [
    "## 3. Multi-level inheritance\n",
    "class class1 :\n",
    "    def name1(sel):\n",
    "        print(\"This is class1\")\n",
    "        \n",
    "class class2(class1) :\n",
    "    def name2(self):\n",
    "        print(\"This is class2\")\n",
    "        \n",
    "class class3(class2) :\n",
    "    def name(self):\n",
    "        pass"
   ]
  },
  {
   "cell_type": "code",
   "execution_count": 34,
   "id": "acb70bb2-ef84-47ea-b724-3e613d49dd06",
   "metadata": {},
   "outputs": [],
   "source": [
    "obj_class3=class3()"
   ]
  },
  {
   "cell_type": "code",
   "execution_count": 35,
   "id": "77cc8b64-1909-436c-8e77-dfec72a55f5c",
   "metadata": {},
   "outputs": [
    {
     "name": "stdout",
     "output_type": "stream",
     "text": [
      "This is class1\n"
     ]
    }
   ],
   "source": [
    "obj_class3.name1()"
   ]
  },
  {
   "cell_type": "code",
   "execution_count": 36,
   "id": "db3d34aa-9257-48eb-9e4e-9df2320334cb",
   "metadata": {},
   "outputs": [
    {
     "name": "stdout",
     "output_type": "stream",
     "text": [
      "This is class2\n"
     ]
    }
   ],
   "source": [
    "obj_class3.name2()"
   ]
  },
  {
   "cell_type": "code",
   "execution_count": 43,
   "id": "e21cde5f-5a3c-4e9d-a1c4-614892d275e7",
   "metadata": {},
   "outputs": [],
   "source": [
    "## 4. Hierarchical inheritance     It is similar to single inheritance\n",
    "class class1 :\n",
    "    def name1(sel):\n",
    "        print(\"This is class1\")\n",
    "        \n",
    "class class2(class1) :\n",
    "    def name2(self):\n",
    "        print(\"This is class2\")\n",
    "        \n",
    "class class3(class1) :\n",
    "    def name(self):\n",
    "        pass"
   ]
  },
  {
   "cell_type": "code",
   "execution_count": 44,
   "id": "d3fac4ad-f210-46cd-8149-7efda7561662",
   "metadata": {},
   "outputs": [],
   "source": [
    "obj_class3=class3()"
   ]
  },
  {
   "cell_type": "code",
   "execution_count": 45,
   "id": "14668b74-e12b-4619-945d-5fccb903c611",
   "metadata": {},
   "outputs": [
    {
     "name": "stdout",
     "output_type": "stream",
     "text": [
      "This is class1\n"
     ]
    }
   ],
   "source": [
    "obj_class3.name1()"
   ]
  },
  {
   "cell_type": "code",
   "execution_count": 46,
   "id": "72fdd46d-8020-42c2-a0ee-2a9b6a443fb3",
   "metadata": {},
   "outputs": [],
   "source": [
    "obj_class2=class2()"
   ]
  },
  {
   "cell_type": "code",
   "execution_count": 47,
   "id": "943c5d28-9b41-48e5-8684-5c33476f0fcb",
   "metadata": {},
   "outputs": [
    {
     "name": "stdout",
     "output_type": "stream",
     "text": [
      "This is class1\n"
     ]
    }
   ],
   "source": [
    "obj_class2.name1()"
   ]
  },
  {
   "cell_type": "code",
   "execution_count": 48,
   "id": "ec8988ca-b8bf-41a2-80f9-8532d7abdbf5",
   "metadata": {},
   "outputs": [
    {
     "name": "stdout",
     "output_type": "stream",
     "text": [
      "This is class2\n"
     ]
    }
   ],
   "source": [
    "obj_class2.name2()"
   ]
  },
  {
   "cell_type": "code",
   "execution_count": null,
   "id": "c82bba91-6565-48e9-9768-97185622c6dd",
   "metadata": {},
   "outputs": [],
   "source": []
  }
 ],
 "metadata": {
  "kernelspec": {
   "display_name": "Python 3 (ipykernel)",
   "language": "python",
   "name": "python3"
  },
  "language_info": {
   "codemirror_mode": {
    "name": "ipython",
    "version": 3
   },
   "file_extension": ".py",
   "mimetype": "text/x-python",
   "name": "python",
   "nbconvert_exporter": "python",
   "pygments_lexer": "ipython3",
   "version": "3.10.8"
  }
 },
 "nbformat": 4,
 "nbformat_minor": 5
}
